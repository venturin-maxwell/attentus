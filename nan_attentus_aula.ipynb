{
 "cells": [
  {
   "cell_type": "code",
   "execution_count": 53,
   "id": "4065557e",
   "metadata": {},
   "outputs": [],
   "source": [
    "import pandas as pd\n",
    "import numpy as np\n",
    "import matplotlib.pyplot as plt\n",
    "import os\n",
    "from mmq import metodo_minimos_quadrados"
   ]
  },
  {
   "cell_type": "code",
   "execution_count": 54,
   "id": "cce51a93",
   "metadata": {},
   "outputs": [
    {
     "data": {
      "text/html": [
       "<div>\n",
       "<style scoped>\n",
       "    .dataframe tbody tr th:only-of-type {\n",
       "        vertical-align: middle;\n",
       "    }\n",
       "\n",
       "    .dataframe tbody tr th {\n",
       "        vertical-align: top;\n",
       "    }\n",
       "\n",
       "    .dataframe thead th {\n",
       "        text-align: right;\n",
       "    }\n",
       "</style>\n",
       "<table border=\"1\" class=\"dataframe\">\n",
       "  <thead>\n",
       "    <tr style=\"text-align: right;\">\n",
       "      <th></th>\n",
       "      <th>rotulo</th>\n",
       "      <th>hora_inicio</th>\n",
       "      <th>hora_fim</th>\n",
       "      <th>numero_medio_ligantes</th>\n",
       "    </tr>\n",
       "  </thead>\n",
       "  <tbody>\n",
       "    <tr>\n",
       "      <th>0</th>\n",
       "      <td>1</td>\n",
       "      <td>00:00:00</td>\n",
       "      <td>00:15:00</td>\n",
       "      <td>601</td>\n",
       "    </tr>\n",
       "    <tr>\n",
       "      <th>1</th>\n",
       "      <td>2</td>\n",
       "      <td>00:15:00</td>\n",
       "      <td>00:30:00</td>\n",
       "      <td>190</td>\n",
       "    </tr>\n",
       "    <tr>\n",
       "      <th>2</th>\n",
       "      <td>3</td>\n",
       "      <td>00:30:00</td>\n",
       "      <td>00:45:00</td>\n",
       "      <td>180</td>\n",
       "    </tr>\n",
       "    <tr>\n",
       "      <th>3</th>\n",
       "      <td>4</td>\n",
       "      <td>00:45:00</td>\n",
       "      <td>01:00:00</td>\n",
       "      <td>177</td>\n",
       "    </tr>\n",
       "    <tr>\n",
       "      <th>4</th>\n",
       "      <td>5</td>\n",
       "      <td>01:00:00</td>\n",
       "      <td>01:15:00</td>\n",
       "      <td>162</td>\n",
       "    </tr>\n",
       "    <tr>\n",
       "      <th>...</th>\n",
       "      <td>...</td>\n",
       "      <td>...</td>\n",
       "      <td>...</td>\n",
       "      <td>...</td>\n",
       "    </tr>\n",
       "    <tr>\n",
       "      <th>91</th>\n",
       "      <td>92</td>\n",
       "      <td>22:45:00</td>\n",
       "      <td>23:00:00</td>\n",
       "      <td>920</td>\n",
       "    </tr>\n",
       "    <tr>\n",
       "      <th>92</th>\n",
       "      <td>93</td>\n",
       "      <td>23:00:00</td>\n",
       "      <td>23:15:00</td>\n",
       "      <td>897</td>\n",
       "    </tr>\n",
       "    <tr>\n",
       "      <th>93</th>\n",
       "      <td>94</td>\n",
       "      <td>23:15:00</td>\n",
       "      <td>23:30:00</td>\n",
       "      <td>571</td>\n",
       "    </tr>\n",
       "    <tr>\n",
       "      <th>94</th>\n",
       "      <td>95</td>\n",
       "      <td>23:30:00</td>\n",
       "      <td>23:45:00</td>\n",
       "      <td>560</td>\n",
       "    </tr>\n",
       "    <tr>\n",
       "      <th>95</th>\n",
       "      <td>96</td>\n",
       "      <td>23:45:00</td>\n",
       "      <td>00:00:00</td>\n",
       "      <td>590</td>\n",
       "    </tr>\n",
       "  </tbody>\n",
       "</table>\n",
       "<p>96 rows × 4 columns</p>\n",
       "</div>"
      ],
      "text/plain": [
       "    rotulo hora_inicio  hora_fim  numero_medio_ligantes\n",
       "0        1    00:00:00  00:15:00                    601\n",
       "1        2    00:15:00  00:30:00                    190\n",
       "2        3    00:30:00  00:45:00                    180\n",
       "3        4    00:45:00  01:00:00                    177\n",
       "4        5    01:00:00  01:15:00                    162\n",
       "..     ...         ...       ...                    ...\n",
       "91      92    22:45:00  23:00:00                    920\n",
       "92      93    23:00:00  23:15:00                    897\n",
       "93      94    23:15:00  23:30:00                    571\n",
       "94      95    23:30:00  23:45:00                    560\n",
       "95      96    23:45:00  00:00:00                    590\n",
       "\n",
       "[96 rows x 4 columns]"
      ]
     },
     "execution_count": 54,
     "metadata": {},
     "output_type": "execute_result"
    }
   ],
   "source": [
    "df_tabela_ligantes = pd.read_excel(\n",
    "    os.path.join(\"data\", \"df_tabela_ligantes.xlsx\")\n",
    ")\n",
    "df_tabela_ligantes\n",
    "# join pra generalizar acesso windows/linus/mac"
   ]
  },
  {
   "cell_type": "code",
   "execution_count": 55,
   "id": "31448f91",
   "metadata": {},
   "outputs": [
    {
     "data": {
      "text/html": [
       "<div>\n",
       "<style scoped>\n",
       "    .dataframe tbody tr th:only-of-type {\n",
       "        vertical-align: middle;\n",
       "    }\n",
       "\n",
       "    .dataframe tbody tr th {\n",
       "        vertical-align: top;\n",
       "    }\n",
       "\n",
       "    .dataframe thead th {\n",
       "        text-align: right;\n",
       "    }\n",
       "</style>\n",
       "<table border=\"1\" class=\"dataframe\">\n",
       "  <thead>\n",
       "    <tr style=\"text-align: right;\">\n",
       "      <th></th>\n",
       "      <th>duracao_conexao</th>\n",
       "      <th>numero_ligantes</th>\n",
       "      <th>percentagem_relativa</th>\n",
       "      <th>percentagem_acumulada</th>\n",
       "    </tr>\n",
       "  </thead>\n",
       "  <tbody>\n",
       "    <tr>\n",
       "      <th>0</th>\n",
       "      <td>0</td>\n",
       "      <td>0</td>\n",
       "      <td>0.000</td>\n",
       "      <td>0.000</td>\n",
       "    </tr>\n",
       "    <tr>\n",
       "      <th>1</th>\n",
       "      <td>5</td>\n",
       "      <td>870</td>\n",
       "      <td>0.087</td>\n",
       "      <td>0.087</td>\n",
       "    </tr>\n",
       "    <tr>\n",
       "      <th>2</th>\n",
       "      <td>10</td>\n",
       "      <td>2210</td>\n",
       "      <td>0.221</td>\n",
       "      <td>0.308</td>\n",
       "    </tr>\n",
       "    <tr>\n",
       "      <th>3</th>\n",
       "      <td>15</td>\n",
       "      <td>2940</td>\n",
       "      <td>0.294</td>\n",
       "      <td>0.602</td>\n",
       "    </tr>\n",
       "    <tr>\n",
       "      <th>4</th>\n",
       "      <td>20</td>\n",
       "      <td>1710</td>\n",
       "      <td>0.171</td>\n",
       "      <td>0.773</td>\n",
       "    </tr>\n",
       "    <tr>\n",
       "      <th>5</th>\n",
       "      <td>25</td>\n",
       "      <td>1360</td>\n",
       "      <td>0.136</td>\n",
       "      <td>0.909</td>\n",
       "    </tr>\n",
       "    <tr>\n",
       "      <th>6</th>\n",
       "      <td>30</td>\n",
       "      <td>590</td>\n",
       "      <td>0.059</td>\n",
       "      <td>0.968</td>\n",
       "    </tr>\n",
       "    <tr>\n",
       "      <th>7</th>\n",
       "      <td>35</td>\n",
       "      <td>250</td>\n",
       "      <td>0.025</td>\n",
       "      <td>0.993</td>\n",
       "    </tr>\n",
       "    <tr>\n",
       "      <th>8</th>\n",
       "      <td>40</td>\n",
       "      <td>70</td>\n",
       "      <td>0.007</td>\n",
       "      <td>1.000</td>\n",
       "    </tr>\n",
       "  </tbody>\n",
       "</table>\n",
       "</div>"
      ],
      "text/plain": [
       "   duracao_conexao  numero_ligantes  percentagem_relativa  \\\n",
       "0                0                0                 0.000   \n",
       "1                5              870                 0.087   \n",
       "2               10             2210                 0.221   \n",
       "3               15             2940                 0.294   \n",
       "4               20             1710                 0.171   \n",
       "5               25             1360                 0.136   \n",
       "6               30              590                 0.059   \n",
       "7               35              250                 0.025   \n",
       "8               40               70                 0.007   \n",
       "\n",
       "   percentagem_acumulada  \n",
       "0                  0.000  \n",
       "1                  0.087  \n",
       "2                  0.308  \n",
       "3                  0.602  \n",
       "4                  0.773  \n",
       "5                  0.909  \n",
       "6                  0.968  \n",
       "7                  0.993  \n",
       "8                  1.000  "
      ]
     },
     "execution_count": 55,
     "metadata": {},
     "output_type": "execute_result"
    }
   ],
   "source": [
    "df_duracoes = pd.read_excel(\n",
    "    os.path.join(\"data\", \"df_duracoes.xlsx\")\n",
    ")\n",
    "\n",
    "df_duracoes"
   ]
  },
  {
   "cell_type": "code",
   "execution_count": 56,
   "id": "70e488b5",
   "metadata": {},
   "outputs": [
    {
     "data": {
      "text/plain": [
       "<Axes: xlabel='duracao_conexao'>"
      ]
     },
     "execution_count": 56,
     "metadata": {},
     "output_type": "execute_result"
    },
    {
     "data": {
      "image/png": "[encoded data removed]",
      "text/plain": [
       "<Figure size 500x300 with 1 Axes>"
      ]
     },
     "metadata": {},
     "output_type": "display_data"
    }
   ],
   "source": [
    "df_duracoes.plot(x=\"duracao_conexao\",\n",
    "                 y=\"numero_ligantes\",\n",
    "                 kind=\"bar\",\n",
    "                 figsize=(5, 3),\n",
    "                 color=\"red\",\n",
    "                 edgecolor=\"black\")"
   ]
  },
  {
   "cell_type": "code",
   "execution_count": 57,
   "id": "3ca0f4ac",
   "metadata": {},
   "outputs": [
    {
     "data": {
      "text/plain": [
       "<Axes: xlabel='percentagem_acumulada', ylabel='duracao_conexao'>"
      ]
     },
     "execution_count": 57,
     "metadata": {},
     "output_type": "execute_result"
    },
    {
     "data": {
      "image/png": "[encoded data removed]",
      "text/plain": [
       "<Figure size 640x480 with 1 Axes>"
      ]
     },
     "metadata": {},
     "output_type": "display_data"
    }
   ],
   "source": [
    "df_duracoes.plot(\n",
    "    x=\"percentagem_acumulada\",\n",
    "    y=\"duracao_conexao\",\n",
    "    kind=\"scatter\",\n",
    "\n",
    ")"
   ]
  },
  {
   "cell_type": "code",
   "execution_count": 58,
   "id": "5975f3dd",
   "metadata": {},
   "outputs": [
    {
     "data": {
      "text/plain": [
       "array([ 7.25285080e+02, -1.67791097e+03,  1.41326154e+03, -5.23808659e+02,\n",
       "        1.01010563e+02, -2.06253859e-01])"
      ]
     },
     "execution_count": 58,
     "metadata": {},
     "output_type": "execute_result"
    }
   ],
   "source": [
    "coefs = metodo_minimos_quadrados.mmq(\n",
    "    df_duracoes[\"percentagem_acumulada\"],\n",
    "    df_duracoes[\"duracao_conexao\"],\n",
    "    5\n",
    ")\n",
    "coefs"
   ]
  },
  {
   "cell_type": "code",
   "execution_count": 59,
   "id": "d9c70593",
   "metadata": {},
   "outputs": [
    {
     "name": "stdout",
     "output_type": "stream",
     "text": [
      "[0.  0.1 0.2 0.3 0.4 0.5 0.6 0.7 0.8 0.9]\n",
      "[-0.2  5.9  7.9  9.3 11.3 13.8 16.  17.6 19.4 24.2]\n"
     ]
    }
   ],
   "source": [
    "x = np.linspace(0, 1, 1000)\n",
    "y = np.polyval(coefs, x)\n",
    "print(x[::100].round(1))\n",
    "print(y[::100].round(1))\n"
   ]
  },
  {
   "cell_type": "code",
   "execution_count": 60,
   "id": "7c330149",
   "metadata": {},
   "outputs": [
    {
     "data": {
      "image/png": "[encoded data removed]",
      "text/plain": [
       "<Figure size 640x480 with 1 Axes>"
      ]
     },
     "metadata": {},
     "output_type": "display_data"
    }
   ],
   "source": [
    "percentagens_acumuladas = df_duracoes[\"percentagem_acumulada\"]\n",
    "duracoes = df_duracoes[\"duracao_conexao\"]\n",
    "\n",
    "plt.scatter(percentagens_acumuladas, duracoes,\n",
    "            color=\"red\", label=\"Dados Originais\")\n",
    "plt.plot(x, y, label=\"Polinomio\")\n",
    "plt.legend()\n",
    "plt.show()"
   ]
  },
  {
   "cell_type": "code",
   "execution_count": 61,
   "id": "db677782",
   "metadata": {},
   "outputs": [
    {
     "data": {
      "image/png": "[encoded data removed]",
      "text/plain": [
       "<Figure size 640x480 with 1 Axes>"
      ]
     },
     "metadata": {},
     "output_type": "display_data"
    }
   ],
   "source": [
    "coefs = metodo_minimos_quadrados.mmq(\n",
    "    df_duracoes[\"percentagem_acumulada\"],\n",
    "    df_duracoes[\"duracao_conexao\"],\n",
    "    8\n",
    ")\n",
    "\n",
    "x = np.linspace(0, 1, 1000)\n",
    "y = np.polyval(coefs, x)\n",
    "\n",
    "percentagens_acumuladas = df_duracoes[\"percentagem_acumulada\"]\n",
    "duracoes = df_duracoes[\"duracao_conexao\"]\n",
    "\n",
    "plt.scatter(percentagens_acumuladas, duracoes,\n",
    "            color=\"red\", label=\"Dados Originais\")\n",
    "plt.plot(x, y, label=\"Polinomio\")\n",
    "plt.legend()\n",
    "plt.show()"
   ]
  },
  {
   "cell_type": "code",
   "execution_count": 62,
   "id": "5dbf8531",
   "metadata": {},
   "outputs": [
    {
     "data": {
      "text/plain": [
       "array([ 7.25285080e+02, -1.67791097e+03,  1.41326154e+03, -5.23808659e+02,\n",
       "        1.01010563e+02, -2.06253859e-01])"
      ]
     },
     "execution_count": 62,
     "metadata": {},
     "output_type": "execute_result"
    }
   ],
   "source": [
    "coefs = metodo_minimos_quadrados.mmq(\n",
    "    df_duracoes[\"percentagem_acumulada\"],\n",
    "    df_duracoes[\"duracao_conexao\"],\n",
    "    5\n",
    ")\n",
    "coefs"
   ]
  },
  {
   "cell_type": "code",
   "execution_count": 63,
   "id": "e4a2c204",
   "metadata": {},
   "outputs": [
    {
     "data": {
      "text/plain": [
       "np.float64(-0.20625385923040085)"
      ]
     },
     "execution_count": 63,
     "metadata": {},
     "output_type": "execute_result"
    }
   ],
   "source": [
    "np.polyval(coefs, 0)"
   ]
  },
  {
   "cell_type": "code",
   "execution_count": 64,
   "id": "201c92e0",
   "metadata": {},
   "outputs": [
    {
     "data": {
      "text/plain": [
       "array([-0.20625386,  5.90943916,  7.89703842,  9.28356129])"
      ]
     },
     "execution_count": 64,
     "metadata": {},
     "output_type": "execute_result"
    }
   ],
   "source": [
    "np.polyval(coefs, [0, 0.1, 0.2, 0.3])"
   ]
  },
  {
   "cell_type": "code",
   "execution_count": 65,
   "id": "42197857",
   "metadata": {},
   "outputs": [
    {
     "data": {
      "text/plain": [
       "np.float64(14.158620131111244)"
      ]
     },
     "execution_count": 65,
     "metadata": {},
     "output_type": "execute_result"
    }
   ],
   "source": [
    "tempos_aleatorios = []\n",
    "for _ in range(10_000):\n",
    "    alpha = np.random.random()\n",
    "    tempo = np.polyval(coefs, alpha)\n",
    "    tempos_aleatorios.append(tempo)\n",
    "\n",
    "np.mean(tempos_aleatorios)"
   ]
  },
  {
   "cell_type": "code",
   "execution_count": 66,
   "id": "5856d7e9",
   "metadata": {},
   "outputs": [
    {
     "data": {
      "text/plain": [
       "rotulo                          1\n",
       "hora_inicio              00:00:00\n",
       "hora_fim                 00:15:00\n",
       "numero_medio_ligantes         601\n",
       "Name: 0, dtype: object"
      ]
     },
     "execution_count": 66,
     "metadata": {},
     "output_type": "execute_result"
    }
   ],
   "source": [
    "df_tabela_ligantes.loc[0]"
   ]
  },
  {
   "cell_type": "code",
   "execution_count": 68,
   "id": "da554678",
   "metadata": {},
   "outputs": [
    {
     "data": {
      "text/plain": [
       "np.int64(601)"
      ]
     },
     "execution_count": 68,
     "metadata": {},
     "output_type": "execute_result"
    }
   ],
   "source": [
    "qtd_ligacoes = \\\n",
    "    df_tabela_ligantes.loc[0, \"numero_medio_ligantes\"]\n",
    "qtd_ligacoes"
   ]
  },
  {
   "cell_type": "code",
   "execution_count": 70,
   "id": "2a821506",
   "metadata": {},
   "outputs": [
    {
     "data": {
      "text/plain": [
       "array([684, 559, 629, 192, 835, 763, 707, 359,   9, 723], dtype=int32)"
      ]
     },
     "execution_count": 70,
     "metadata": {},
     "output_type": "execute_result"
    }
   ],
   "source": [
    "np.random.seed(0)\n",
    "momentos_ligacoes = np.random.randint(0, 900,size=qtd_ligacoes)\n",
    "momentos_ligacoes[:10]"
   ]
  },
  {
   "cell_type": "code",
   "execution_count": 75,
   "id": "3ca231f2",
   "metadata": {},
   "outputs": [
    {
     "data": {
      "text/plain": [
       "np.int64(0)"
      ]
     },
     "execution_count": 75,
     "metadata": {},
     "output_type": "execute_result"
    }
   ],
   "source": [
    "df_duracoes.loc[0, \"duracao_conexao\"]"
   ]
  },
  {
   "cell_type": "code",
   "execution_count": 77,
   "id": "4e2f68ad",
   "metadata": {},
   "outputs": [
    {
     "data": {
      "text/plain": [
       "np.int64(0)"
      ]
     },
     "execution_count": 77,
     "metadata": {},
     "output_type": "execute_result"
    }
   ],
   "source": [
    "df_duracoes.iloc[0, 0]"
   ]
  },
  {
   "cell_type": "code",
   "execution_count": 78,
   "id": "d6179555",
   "metadata": {},
   "outputs": [
    {
     "data": {
      "text/plain": [
       "array([684, 559, 629, 192, 835, 763, 707, 359,   9, 723], dtype=int32)"
      ]
     },
     "execution_count": 78,
     "metadata": {},
     "output_type": "execute_result"
    }
   ],
   "source": [
    "momentos_ligacoes[:10]"
   ]
  },
  {
   "cell_type": "code",
   "execution_count": 79,
   "id": "2aae7068",
   "metadata": {},
   "outputs": [
    {
     "data": {
      "text/plain": [
       "array([ 0,  3,  4,  4,  7,  9, 11, 11, 13, 13], dtype=int32)"
      ]
     },
     "execution_count": 79,
     "metadata": {},
     "output_type": "execute_result"
    }
   ],
   "source": [
    "momentos_ligacoes.sort()\n",
    "momentos_ligacoes[:10]"
   ]
  },
  {
   "cell_type": "code",
   "execution_count": 80,
   "id": "220e6969",
   "metadata": {},
   "outputs": [],
   "source": [
    "atendentes: list[dict] = []"
   ]
  },
  {
   "cell_type": "code",
   "execution_count": 81,
   "id": "7770085c",
   "metadata": {},
   "outputs": [],
   "source": [
    "np.set_printoptions(legacy=\"1.13\")"
   ]
  },
  {
   "cell_type": "code",
   "execution_count": 82,
   "id": "a10a83cd",
   "metadata": {},
   "outputs": [
    {
     "data": {
      "text/plain": [
       "0"
      ]
     },
     "execution_count": 82,
     "metadata": {},
     "output_type": "execute_result"
    }
   ],
   "source": [
    "momento_ligacao = momentos_ligacoes[0]\n",
    "momento_ligacao"
   ]
  },
  {
   "cell_type": "code",
   "execution_count": 83,
   "id": "787370eb",
   "metadata": {},
   "outputs": [
    {
     "name": "stdout",
     "output_type": "stream",
     "text": [
      "14.9651548719\n"
     ]
    }
   ],
   "source": [
    "np.random.seed(0)\n",
    "aleatorio = np.random.rand()\n",
    "tempo_duracao = abs(np.polyval(coefs, aleatorio))\n",
    "print(tempo_duracao)"
   ]
  },
  {
   "cell_type": "code",
   "execution_count": 91,
   "id": "32cdd138",
   "metadata": {},
   "outputs": [
    {
     "data": {
      "text/plain": [
       "[{'inicio': 0, 'fim': 14.965154871866302}]"
      ]
     },
     "execution_count": 91,
     "metadata": {},
     "output_type": "execute_result"
    }
   ],
   "source": [
    "if atendentes == []:\n",
    "    atendente = {\n",
    "        \"inicio\": momento_ligacao,\n",
    "        \"fim\": momento_ligacao + tempo_duracao\n",
    "    }\n",
    "    atendentes.append(atendente)\n",
    "    \n",
    "atendentes"
   ]
  },
  {
   "cell_type": "code",
   "execution_count": 93,
   "id": "402dc162",
   "metadata": {},
   "outputs": [
    {
     "name": "stdout",
     "output_type": "stream",
     "text": [
      "3\n"
     ]
    }
   ],
   "source": [
    "momento_ligacao = momentos_ligacoes[1]\n",
    "print(momento_ligacao)"
   ]
  },
  {
   "cell_type": "code",
   "execution_count": 94,
   "id": "5e375b5a",
   "metadata": {},
   "outputs": [],
   "source": [
    "espera_maxima = 10\n",
    "tempo_descanso = 0"
   ]
  },
  {
   "cell_type": "code",
   "execution_count": 95,
   "id": "8473286c",
   "metadata": {},
   "outputs": [
    {
     "data": {
      "text/plain": [
       "11.718611910921702"
      ]
     },
     "execution_count": 95,
     "metadata": {},
     "output_type": "execute_result"
    }
   ],
   "source": [
    "np.random.seed(1)\n",
    "aleatorio = np.random.random()\n",
    "tempo_duracao = np.polyval(coefs, aleatorio)\n",
    "tempo_duracao"
   ]
  },
  {
   "cell_type": "code",
   "execution_count": 97,
   "id": "c54a202c",
   "metadata": {},
   "outputs": [
    {
     "data": {
      "text/plain": [
       "[{'inicio': 0, 'fim': 14.965154871866302},\n",
       " {'inicio': 3, 'fim': 14.718611910921702}]"
      ]
     },
     "execution_count": 97,
     "metadata": {},
     "output_type": "execute_result"
    }
   ],
   "source": [
    "for atendente in atendentes:\n",
    "    fim = atendente[\"fim\"] + tempo_descanso\n",
    "\n",
    "    if momento_ligacao + espera_maxima < fim:\n",
    "        ocupado = True\n",
    "    else:\n",
    "        ocupado = False\n",
    "\n",
    "    if not ocupado:\n",
    "\n",
    "        if momento_ligacao + espera_maxima > fim:\n",
    "            atendente[\"inicio\"] = momento_ligacao + espera_maxima\n",
    "\n",
    "        else: atendente[\"inicio\"] = fim\n",
    "        atendente[\"fim\"] = atendente[\"inicio\"] + tempo_duracao\n",
    "        break\n",
    "\n",
    "else:\n",
    "    \n",
    "    atendente = {\n",
    "        \"inicio\": momento_ligacao,\n",
    "        \"fim\": momento_ligacao + tempo_duracao\n",
    "    }\n",
    "\n",
    "    atendentes.append(atendente)\n",
    "    \n",
    "atendentes"
   ]
  },
  {
   "cell_type": "code",
   "execution_count": 98,
   "id": "1f0c491e",
   "metadata": {},
   "outputs": [
    {
     "data": {
      "text/plain": [
       "4"
      ]
     },
     "execution_count": 98,
     "metadata": {},
     "output_type": "execute_result"
    }
   ],
   "source": [
    "momento_ligacao = momentos_ligacoes[2]\n",
    "momento_ligacao"
   ]
  },
  {
   "cell_type": "code",
   "execution_count": 105,
   "id": "5e8777e4",
   "metadata": {},
   "outputs": [
    {
     "data": {
      "text/plain": [
       "[{'inicio': 904, 'fim': 914.40375649914586},\n",
       " {'inicio': 906, 'fim': 917.86945228521722},\n",
       " {'inicio': 909, 'fim': 917.37356632891419},\n",
       " {'inicio': 900, 'fim': 912.04701461339766},\n",
       " {'inicio': 906, 'fim': 913.54143974666329},\n",
       " {'inicio': 906, 'fim': 909.2110175449709},\n",
       " {'inicio': 907, 'fim': 923.65667308860293},\n",
       " {'inicio': 898, 'fim': 910.8046881536053},\n",
       " {'inicio': 892, 'fim': 918.91345869819895},\n",
       " {'inicio': 892, 'fim': 899.69624954342305},\n",
       " {'inicio': 895, 'fim': 921.10612201694778},\n",
       " {'inicio': 894, 'fim': 924.6907424196321},\n",
       " {'inicio': 894, 'fim': 912.97138605835903},\n",
       " {'inicio': 895, 'fim': 911.50408246353663},\n",
       " {'inicio': 896, 'fim': 906.24103253314115},\n",
       " {'inicio': 896, 'fim': 913.60372670627521},\n",
       " {'inicio': 899, 'fim': 917.10414351614531},\n",
       " {'inicio': 899, 'fim': 928.75678692654105},\n",
       " {'inicio': 899, 'fim': 903.08006092176959},\n",
       " {'inicio': 899, 'fim': 906.40232584628484}]"
      ]
     },
     "execution_count": 105,
     "metadata": {},
     "output_type": "execute_result"
    }
   ],
   "source": [
    "np.random.seed(5)\n",
    "tempo_descanso = 0\n",
    "espera_maxima = 10\n",
    "atendentes = []\n",
    "for momento_ligacao in momentos_ligacoes:\n",
    "    aleatorio = np.random.random()\n",
    "    tempo_duracao = abs(np.polyval(coefs, aleatorio))\n",
    "\n",
    "    for atendente in atendentes:\n",
    "        fim = atendente[\"fim\"] + tempo_descanso\n",
    "\n",
    "        if momento_ligacao + espera_maxima < fim:\n",
    "            ocupado = True\n",
    "        else:\n",
    "            ocupado = False\n",
    "\n",
    "        if not ocupado:\n",
    "\n",
    "            if momento_ligacao + espera_maxima > fim:\n",
    "                atendente[\"inicio\"] = momento_ligacao + espera_maxima\n",
    "            else:\n",
    "                atendente[\"inicio\"] = fim\n",
    "            \n",
    "            atendente[\"fim\"] = atendente[\"inicio\"] + tempo_duracao\n",
    "            break\n",
    "    else:\n",
    "\n",
    "        atendente = {\n",
    "            \"inicio\": momento_ligacao,\n",
    "            \"fim\": momento_ligacao + tempo_duracao\n",
    "        }\n",
    "        atendentes.append(atendente)\n",
    "\n",
    "atendentes"
   ]
  },
  {
   "cell_type": "code",
   "execution_count": 106,
   "id": "b7d7a8d9",
   "metadata": {},
   "outputs": [
    {
     "data": {
      "text/plain": [
       "20"
      ]
     },
     "execution_count": 106,
     "metadata": {},
     "output_type": "execute_result"
    }
   ],
   "source": [
    "len(atendentes)"
   ]
  },
  {
   "cell_type": "code",
   "execution_count": 113,
   "id": "bab86753",
   "metadata": {},
   "outputs": [
    {
     "data": {
      "text/plain": [
       "array([4, 1, 5, 3, 2, 8, 6, 7])"
      ]
     },
     "execution_count": 113,
     "metadata": {},
     "output_type": "execute_result"
    }
   ],
   "source": [
    "np.random.permutation([1,2,3,4,5,6,7,8])"
   ]
  },
  {
   "cell_type": "code",
   "execution_count": 114,
   "id": "08b0b5af",
   "metadata": {},
   "outputs": [
    {
     "data": {
      "text/plain": [
       "[{'inicio': 899, 'fim': 909.29559843894401},\n",
       " {'inicio': 900, 'fim': 910.8933443095973},\n",
       " {'inicio': 899, 'fim': 932.21236758365058},\n",
       " {'inicio': 909, 'fim': 917.53861755832725},\n",
       " {'inicio': 904, 'fim': 920.23396462394362},\n",
       " {'inicio': 899, 'fim': 908.85265704367271},\n",
       " {'inicio': 867, 'fim': 894.99620690112238},\n",
       " {'inicio': 901, 'fim': 917.6665794080742},\n",
       " {'inicio': 907, 'fim': 915.17518229744098},\n",
       " {'inicio': 906, 'fim': 913.65133331325376},\n",
       " {'inicio': 896, 'fim': 906.82228408336164},\n",
       " {'inicio': 892, 'fim': 907.66966276223832},\n",
       " {'inicio': 882, 'fim': 901.13837906628623},\n",
       " {'inicio': 883, 'fim': 902.83508527519712},\n",
       " {'inicio': 814, 'fim': 843.61932084942623},\n",
       " {'inicio': 899, 'fim': 907.73089614730179},\n",
       " {'inicio': 896, 'fim': 912.80887287288704},\n",
       " {'inicio': 906, 'fim': 930.7765085877561},\n",
       " {'inicio': 906, 'fim': 914.04967842284293}]"
      ]
     },
     "execution_count": 114,
     "metadata": {},
     "output_type": "execute_result"
    }
   ],
   "source": [
    "np.random.seed(5)\n",
    "tempo_descanso = 0\n",
    "espera_maxima = 10\n",
    "atendentes = []\n",
    "for momento_ligacao in momentos_ligacoes:\n",
    "    aleatorio = np.random.random()\n",
    "    tempo_duracao = abs(np.polyval(coefs, aleatorio))\n",
    "\n",
    "    atendentes = list(np.random.permutation(atendentes))\n",
    "\n",
    "    for atendente in atendentes:\n",
    "        fim = atendente[\"fim\"] + tempo_descanso\n",
    "\n",
    "        if momento_ligacao + espera_maxima < fim:\n",
    "            ocupado = True\n",
    "        else:\n",
    "            ocupado = False\n",
    "\n",
    "        if not ocupado:\n",
    "\n",
    "            if momento_ligacao + espera_maxima > fim:\n",
    "                atendente[\"inicio\"] = momento_ligacao + espera_maxima\n",
    "            else:\n",
    "                atendente[\"inicio\"] = fim\n",
    "            \n",
    "            atendente[\"fim\"] = atendente[\"inicio\"] + tempo_duracao\n",
    "            break\n",
    "    else:\n",
    "\n",
    "        atendente = {\n",
    "            \"inicio\": momento_ligacao,\n",
    "            \"fim\": momento_ligacao + tempo_duracao\n",
    "        }\n",
    "        atendentes.append(atendente)\n",
    "\n",
    "atendentes"
   ]
  },
  {
   "cell_type": "code",
   "execution_count": 115,
   "id": "573b08e9",
   "metadata": {},
   "outputs": [
    {
     "data": {
      "text/plain": [
       "19"
      ]
     },
     "execution_count": 115,
     "metadata": {},
     "output_type": "execute_result"
    }
   ],
   "source": [
    "len(atendentes)"
   ]
  },
  {
   "cell_type": "code",
   "execution_count": 116,
   "id": "0f23ad61",
   "metadata": {},
   "outputs": [
    {
     "data": {
      "text/html": [
       "<div>\n",
       "<style scoped>\n",
       "    .dataframe tbody tr th:only-of-type {\n",
       "        vertical-align: middle;\n",
       "    }\n",
       "\n",
       "    .dataframe tbody tr th {\n",
       "        vertical-align: top;\n",
       "    }\n",
       "\n",
       "    .dataframe thead th {\n",
       "        text-align: right;\n",
       "    }\n",
       "</style>\n",
       "<table border=\"1\" class=\"dataframe\">\n",
       "  <thead>\n",
       "    <tr style=\"text-align: right;\">\n",
       "      <th></th>\n",
       "      <th>rotulo</th>\n",
       "      <th>hora_inicio</th>\n",
       "      <th>hora_fim</th>\n",
       "      <th>numero_medio_ligantes</th>\n",
       "    </tr>\n",
       "  </thead>\n",
       "  <tbody>\n",
       "    <tr>\n",
       "      <th>0</th>\n",
       "      <td>1</td>\n",
       "      <td>00:00:00</td>\n",
       "      <td>00:15:00</td>\n",
       "      <td>601</td>\n",
       "    </tr>\n",
       "    <tr>\n",
       "      <th>1</th>\n",
       "      <td>2</td>\n",
       "      <td>00:15:00</td>\n",
       "      <td>00:30:00</td>\n",
       "      <td>190</td>\n",
       "    </tr>\n",
       "    <tr>\n",
       "      <th>2</th>\n",
       "      <td>3</td>\n",
       "      <td>00:30:00</td>\n",
       "      <td>00:45:00</td>\n",
       "      <td>180</td>\n",
       "    </tr>\n",
       "    <tr>\n",
       "      <th>3</th>\n",
       "      <td>4</td>\n",
       "      <td>00:45:00</td>\n",
       "      <td>01:00:00</td>\n",
       "      <td>177</td>\n",
       "    </tr>\n",
       "    <tr>\n",
       "      <th>4</th>\n",
       "      <td>5</td>\n",
       "      <td>01:00:00</td>\n",
       "      <td>01:15:00</td>\n",
       "      <td>162</td>\n",
       "    </tr>\n",
       "    <tr>\n",
       "      <th>...</th>\n",
       "      <td>...</td>\n",
       "      <td>...</td>\n",
       "      <td>...</td>\n",
       "      <td>...</td>\n",
       "    </tr>\n",
       "    <tr>\n",
       "      <th>91</th>\n",
       "      <td>92</td>\n",
       "      <td>22:45:00</td>\n",
       "      <td>23:00:00</td>\n",
       "      <td>920</td>\n",
       "    </tr>\n",
       "    <tr>\n",
       "      <th>92</th>\n",
       "      <td>93</td>\n",
       "      <td>23:00:00</td>\n",
       "      <td>23:15:00</td>\n",
       "      <td>897</td>\n",
       "    </tr>\n",
       "    <tr>\n",
       "      <th>93</th>\n",
       "      <td>94</td>\n",
       "      <td>23:15:00</td>\n",
       "      <td>23:30:00</td>\n",
       "      <td>571</td>\n",
       "    </tr>\n",
       "    <tr>\n",
       "      <th>94</th>\n",
       "      <td>95</td>\n",
       "      <td>23:30:00</td>\n",
       "      <td>23:45:00</td>\n",
       "      <td>560</td>\n",
       "    </tr>\n",
       "    <tr>\n",
       "      <th>95</th>\n",
       "      <td>96</td>\n",
       "      <td>23:45:00</td>\n",
       "      <td>00:00:00</td>\n",
       "      <td>590</td>\n",
       "    </tr>\n",
       "  </tbody>\n",
       "</table>\n",
       "<p>96 rows × 4 columns</p>\n",
       "</div>"
      ],
      "text/plain": [
       "    rotulo hora_inicio  hora_fim  numero_medio_ligantes\n",
       "0        1    00:00:00  00:15:00                    601\n",
       "1        2    00:15:00  00:30:00                    190\n",
       "2        3    00:30:00  00:45:00                    180\n",
       "3        4    00:45:00  01:00:00                    177\n",
       "4        5    01:00:00  01:15:00                    162\n",
       "..     ...         ...       ...                    ...\n",
       "91      92    22:45:00  23:00:00                    920\n",
       "92      93    23:00:00  23:15:00                    897\n",
       "93      94    23:15:00  23:30:00                    571\n",
       "94      95    23:30:00  23:45:00                    560\n",
       "95      96    23:45:00  00:00:00                    590\n",
       "\n",
       "[96 rows x 4 columns]"
      ]
     },
     "execution_count": 116,
     "metadata": {},
     "output_type": "execute_result"
    }
   ],
   "source": [
    "df_tabela_ligantes"
   ]
  },
  {
   "cell_type": "code",
   "execution_count": 117,
   "id": "a34add70",
   "metadata": {},
   "outputs": [
    {
     "data": {
      "text/plain": [
       "[20,\n",
       " 9,\n",
       " 8,\n",
       " 9,\n",
       " 8,\n",
       " 5,\n",
       " 6,\n",
       " 7,\n",
       " 5,\n",
       " 5,\n",
       " 4,\n",
       " 5,\n",
       " 4,\n",
       " 4,\n",
       " 4,\n",
       " 4,\n",
       " 4,\n",
       " 5,\n",
       " 4,\n",
       " 4,\n",
       " 4,\n",
       " 4,\n",
       " 3,\n",
       " 4,\n",
       " 6,\n",
       " 6,\n",
       " 8,\n",
       " 7,\n",
       " 20,\n",
       " 21,\n",
       " 23,\n",
       " 23,\n",
       " 41,\n",
       " 41,\n",
       " 41,\n",
       " 45,\n",
       " 66,\n",
       " 59,\n",
       " 60,\n",
       " 67,\n",
       " 70,\n",
       " 75,\n",
       " 71,\n",
       " 75,\n",
       " 66,\n",
       " 64,\n",
       " 62,\n",
       " 68,\n",
       " 57,\n",
       " 57,\n",
       " 56,\n",
       " 60,\n",
       " 64,\n",
       " 67,\n",
       " 63,\n",
       " 70,\n",
       " 69,\n",
       " 67,\n",
       " 64,\n",
       " 66,\n",
       " 71,\n",
       " 66,\n",
       " 70,\n",
       " 67,\n",
       " 68,\n",
       " 66,\n",
       " 68,\n",
       " 71,\n",
       " 68,\n",
       " 69,\n",
       " 73,\n",
       " 62,\n",
       " 55,\n",
       " 51,\n",
       " 52,\n",
       " 48,\n",
       " 45,\n",
       " 44,\n",
       " 39,\n",
       " 38,\n",
       " 41,\n",
       " 36,\n",
       " 36,\n",
       " 40,\n",
       " 36,\n",
       " 34,\n",
       " 30,\n",
       " 31,\n",
       " 31,\n",
       " 26,\n",
       " 26,\n",
       " 26,\n",
       " 23,\n",
       " 18,\n",
       " 18,\n",
       " 18]"
      ]
     },
     "execution_count": 117,
     "metadata": {},
     "output_type": "execute_result"
    }
   ],
   "source": [
    "np.random.seed(5)\n",
    "tempo_descanso = 0\n",
    "espera_maxima = 10\n",
    "coluna_nan = []\n",
    "for i, linha in df_tabela_ligantes.iterrows():\n",
    "    qtd_ligacoes = linha[\"numero_medio_ligantes\"]\n",
    "\n",
    "    momentos_ligacoes = np.random.randint(0, 900, size=qtd_ligacoes)\n",
    "    momentos_ligacoes.sort()\n",
    "\n",
    "    atendentes = []\n",
    "    for momento_ligacao in momentos_ligacoes:\n",
    "        aleatorio = np.random.random()\n",
    "        tempo_duracao = abs(np.polyval(coefs, aleatorio))\n",
    "\n",
    "        atendentes = list(np.random.permutation(atendentes))\n",
    "\n",
    "        for atendente in atendentes:\n",
    "            fim = atendente[\"fim\"] + tempo_descanso\n",
    "\n",
    "            if momento_ligacao + espera_maxima < fim:\n",
    "                ocupado = True\n",
    "            else:\n",
    "                ocupado = False\n",
    "\n",
    "            if not ocupado:\n",
    "\n",
    "                if momento_ligacao + espera_maxima > fim:\n",
    "                    atendente[\"inicio\"] = momento_ligacao + espera_maxima\n",
    "                else:\n",
    "                    atendente[\"inicio\"] = fim\n",
    "                \n",
    "                atendente[\"fim\"] = atendente[\"inicio\"] + tempo_duracao\n",
    "                break\n",
    "        else:\n",
    "\n",
    "            atendente = {\n",
    "                \"inicio\": momento_ligacao,\n",
    "                \"fim\": momento_ligacao + tempo_duracao\n",
    "            }\n",
    "            atendentes.append(atendente)\n",
    "    \n",
    "    nan = len(atendentes)\n",
    "    coluna_nan.append(nan)\n",
    "\n",
    "coluna_nan"
   ]
  },
  {
   "cell_type": "code",
   "execution_count": 119,
   "id": "e1f7d682",
   "metadata": {},
   "outputs": [
    {
     "data": {
      "text/html": [
       "<div>\n",
       "<style scoped>\n",
       "    .dataframe tbody tr th:only-of-type {\n",
       "        vertical-align: middle;\n",
       "    }\n",
       "\n",
       "    .dataframe tbody tr th {\n",
       "        vertical-align: top;\n",
       "    }\n",
       "\n",
       "    .dataframe thead th {\n",
       "        text-align: right;\n",
       "    }\n",
       "</style>\n",
       "<table border=\"1\" class=\"dataframe\">\n",
       "  <thead>\n",
       "    <tr style=\"text-align: right;\">\n",
       "      <th></th>\n",
       "      <th>rotulo</th>\n",
       "      <th>hora_inicio</th>\n",
       "      <th>hora_fim</th>\n",
       "      <th>numero_medio_ligantes</th>\n",
       "      <th>nan</th>\n",
       "    </tr>\n",
       "  </thead>\n",
       "  <tbody>\n",
       "    <tr>\n",
       "      <th>0</th>\n",
       "      <td>1</td>\n",
       "      <td>00:00:00</td>\n",
       "      <td>00:15:00</td>\n",
       "      <td>601</td>\n",
       "      <td>20</td>\n",
       "    </tr>\n",
       "    <tr>\n",
       "      <th>1</th>\n",
       "      <td>2</td>\n",
       "      <td>00:15:00</td>\n",
       "      <td>00:30:00</td>\n",
       "      <td>190</td>\n",
       "      <td>9</td>\n",
       "    </tr>\n",
       "    <tr>\n",
       "      <th>2</th>\n",
       "      <td>3</td>\n",
       "      <td>00:30:00</td>\n",
       "      <td>00:45:00</td>\n",
       "      <td>180</td>\n",
       "      <td>8</td>\n",
       "    </tr>\n",
       "    <tr>\n",
       "      <th>3</th>\n",
       "      <td>4</td>\n",
       "      <td>00:45:00</td>\n",
       "      <td>01:00:00</td>\n",
       "      <td>177</td>\n",
       "      <td>9</td>\n",
       "    </tr>\n",
       "    <tr>\n",
       "      <th>4</th>\n",
       "      <td>5</td>\n",
       "      <td>01:00:00</td>\n",
       "      <td>01:15:00</td>\n",
       "      <td>162</td>\n",
       "      <td>8</td>\n",
       "    </tr>\n",
       "    <tr>\n",
       "      <th>...</th>\n",
       "      <td>...</td>\n",
       "      <td>...</td>\n",
       "      <td>...</td>\n",
       "      <td>...</td>\n",
       "      <td>...</td>\n",
       "    </tr>\n",
       "    <tr>\n",
       "      <th>91</th>\n",
       "      <td>92</td>\n",
       "      <td>22:45:00</td>\n",
       "      <td>23:00:00</td>\n",
       "      <td>920</td>\n",
       "      <td>26</td>\n",
       "    </tr>\n",
       "    <tr>\n",
       "      <th>92</th>\n",
       "      <td>93</td>\n",
       "      <td>23:00:00</td>\n",
       "      <td>23:15:00</td>\n",
       "      <td>897</td>\n",
       "      <td>23</td>\n",
       "    </tr>\n",
       "    <tr>\n",
       "      <th>93</th>\n",
       "      <td>94</td>\n",
       "      <td>23:15:00</td>\n",
       "      <td>23:30:00</td>\n",
       "      <td>571</td>\n",
       "      <td>18</td>\n",
       "    </tr>\n",
       "    <tr>\n",
       "      <th>94</th>\n",
       "      <td>95</td>\n",
       "      <td>23:30:00</td>\n",
       "      <td>23:45:00</td>\n",
       "      <td>560</td>\n",
       "      <td>18</td>\n",
       "    </tr>\n",
       "    <tr>\n",
       "      <th>95</th>\n",
       "      <td>96</td>\n",
       "      <td>23:45:00</td>\n",
       "      <td>00:00:00</td>\n",
       "      <td>590</td>\n",
       "      <td>18</td>\n",
       "    </tr>\n",
       "  </tbody>\n",
       "</table>\n",
       "<p>96 rows × 5 columns</p>\n",
       "</div>"
      ],
      "text/plain": [
       "    rotulo hora_inicio  hora_fim  numero_medio_ligantes  nan\n",
       "0        1    00:00:00  00:15:00                    601   20\n",
       "1        2    00:15:00  00:30:00                    190    9\n",
       "2        3    00:30:00  00:45:00                    180    8\n",
       "3        4    00:45:00  01:00:00                    177    9\n",
       "4        5    01:00:00  01:15:00                    162    8\n",
       "..     ...         ...       ...                    ...  ...\n",
       "91      92    22:45:00  23:00:00                    920   26\n",
       "92      93    23:00:00  23:15:00                    897   23\n",
       "93      94    23:15:00  23:30:00                    571   18\n",
       "94      95    23:30:00  23:45:00                    560   18\n",
       "95      96    23:45:00  00:00:00                    590   18\n",
       "\n",
       "[96 rows x 5 columns]"
      ]
     },
     "execution_count": 119,
     "metadata": {},
     "output_type": "execute_result"
    }
   ],
   "source": [
    "df_tabela_ligantes[\"nan\"] = coluna_nan\n",
    "df_tabela_ligantes"
   ]
  },
  {
   "cell_type": "code",
   "execution_count": null,
   "id": "0b4b0a28",
   "metadata": {},
   "outputs": [],
   "source": []
  }
 ],
 "metadata": {
  "kernelspec": {
   "display_name": ".venv_attentus",
   "language": "python",
   "name": "python3"
  },
  "language_info": {
   "codemirror_mode": {
    "name": "ipython",
    "version": 3
   },
   "file_extension": ".py",
   "mimetype": "text/x-python",
   "name": "python",
   "nbconvert_exporter": "python",
   "pygments_lexer": "ipython3",
   "version": "3.12.9"
  }
 },
 "nbformat": 4,
 "nbformat_minor": 5
}
